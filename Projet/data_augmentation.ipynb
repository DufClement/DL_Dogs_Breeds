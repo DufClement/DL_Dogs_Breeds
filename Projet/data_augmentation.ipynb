{
 "cells": [
  {
   "cell_type": "code",
   "execution_count": 1,
   "id": "private-particular",
   "metadata": {},
   "outputs": [],
   "source": [
    "import os\n",
    "from matplotlib import pyplot as plt\n",
    "from matplotlib.image import imread\n",
    "from PIL import Image\n",
    "import numpy as np\n",
    "import tensorflow as tf\n",
    "import pandas as pd\n",
    "from tensorflow.keras.preprocessing.image import ImageDataGenerator\n",
    "from tensorflow.keras import layers, Model\n",
    "from tensorflow.keras.optimizers import RMSprop"
   ]
  },
  {
   "cell_type": "code",
   "execution_count": 2,
   "id": "municipal-pacific",
   "metadata": {},
   "outputs": [
    {
     "name": "stdout",
     "output_type": "stream",
     "text": [
      "dogs_breed\\train\n"
     ]
    }
   ],
   "source": [
    "base_dir = 'dogs_breed'    \n",
    "valid_dir = 'valid'\n",
    "train_dir = 'train'\n",
    "train_path = os.path.join(base_dir, train_dir)\n",
    "valid_path = os.path.join(base_dir, valid_dir)\n",
    "print(train_path)"
   ]
  },
  {
   "cell_type": "code",
   "execution_count": 3,
   "id": "motivated-audience",
   "metadata": {},
   "outputs": [],
   "source": [
    "train_datagen = ImageDataGenerator(\n",
    " rescale=1./255,rotation_range=40,\n",
    " width_shift_range=0.2,\n",
    " height_shift_range=0.2,\n",
    " shear_range=0.2,\n",
    " zoom_range=0.2,\n",
    " horizontal_flip=True)\n",
    "\n",
    "val_datagen = tf.keras.preprocessing.image.ImageDataGenerator(rescale=1./255)"
   ]
  },
  {
   "cell_type": "code",
   "execution_count": 4,
   "id": "processed-digit",
   "metadata": {},
   "outputs": [
    {
     "name": "stdout",
     "output_type": "stream",
     "text": [
      "Found 16469 images belonging to 120 classes.\n",
      "dogs_breed\\train\n"
     ]
    }
   ],
   "source": [
    "train_gen = train_datagen.flow_from_directory(\n",
    "    train_path,\n",
    "    target_size=(150, 150),\n",
    "    batch_size=20,\n",
    "    class_mode='binary'\n",
    ")\n",
    "print(train_path)"
   ]
  },
  {
   "cell_type": "code",
   "execution_count": 5,
   "id": "orange-heath",
   "metadata": {},
   "outputs": [
    {
     "name": "stdout",
     "output_type": "stream",
     "text": [
      "Found 4111 images belonging to 120 classes.\n"
     ]
    }
   ],
   "source": [
    "val_gen = val_datagen.flow_from_directory(\n",
    "    valid_path,\n",
    "    target_size=(150, 150),\n",
    "    batch_size=20,\n",
    "    class_mode='binary'\n",
    ")"
   ]
  },
  {
   "cell_type": "markdown",
   "id": "allied-houston",
   "metadata": {},
   "source": [
    "# CNN"
   ]
  },
  {
   "cell_type": "code",
   "execution_count": 6,
   "id": "directed-vegetation",
   "metadata": {
    "scrolled": true
   },
   "outputs": [
    {
     "name": "stdout",
     "output_type": "stream",
     "text": [
      "Model: \"model\"\n",
      "_________________________________________________________________\n",
      "Layer (type)                 Output Shape              Param #   \n",
      "=================================================================\n",
      "input_1 (InputLayer)         [(None, 150, 150, 3)]     0         \n",
      "_________________________________________________________________\n",
      "conv2d (Conv2D)              (None, 148, 148, 16)      448       \n",
      "_________________________________________________________________\n",
      "max_pooling2d (MaxPooling2D) (None, 74, 74, 16)        0         \n",
      "_________________________________________________________________\n",
      "conv2d_1 (Conv2D)            (None, 72, 72, 32)        4640      \n",
      "_________________________________________________________________\n",
      "max_pooling2d_1 (MaxPooling2 (None, 36, 36, 32)        0         \n",
      "_________________________________________________________________\n",
      "conv2d_2 (Conv2D)            (None, 34, 34, 64)        18496     \n",
      "_________________________________________________________________\n",
      "max_pooling2d_2 (MaxPooling2 (None, 17, 17, 64)        0         \n",
      "_________________________________________________________________\n",
      "flatten (Flatten)            (None, 18496)             0         \n",
      "_________________________________________________________________\n",
      "dense (Dense)                (None, 512)               9470464   \n",
      "_________________________________________________________________\n",
      "dense_1 (Dense)              (None, 120)               61560     \n",
      "=================================================================\n",
      "Total params: 9,555,608\n",
      "Trainable params: 9,555,608\n",
      "Non-trainable params: 0\n",
      "_________________________________________________________________\n"
     ]
    }
   ],
   "source": [
    "from tensorflow.keras import layers, Model\n",
    "from tensorflow.keras.optimizers import RMSprop\n",
    "\n",
    "def create_model(use_dropout :bool = False):\n",
    "  img_input = layers.Input(shape=(150, 150, 3))\n",
    "  x = layers.Conv2D(16, 3, activation='relu')(img_input)\n",
    "  x = layers.MaxPooling2D(2)(x)\n",
    "  x = layers.Conv2D(32, 3, activation='relu')(x)\n",
    "  x = layers.MaxPooling2D(2)(x)\n",
    "  x = layers.Conv2D(64, 3, activation='relu')(x)\n",
    "  x = layers.MaxPooling2D(2)(x)\n",
    "  x = layers.Flatten()(x)\n",
    "  x = layers.Dense(512, activation='relu')(x)\n",
    "\n",
    "  if use_dropout:\n",
    "      x = layers.Dropout(0.5)(x)\n",
    "\n",
    "  # Create output layer\n",
    "  output = layers.Dense(120, activation='softmax')(x) # species number\n",
    "\n",
    "\n",
    "  if 'model' in locals():\n",
    "      del model \n",
    "\n",
    "  model_intra = Model(img_input, output)\n",
    "\n",
    "  model_intra.summary()\n",
    "\n",
    "  model_intra.compile(\n",
    "      loss='categorical_crossentropy',\n",
    "      optimizer=RMSprop(lr=0.001),\n",
    "      metrics=['acc']\n",
    "  )\n",
    "  return model_intra\n",
    "\n",
    "model = create_model()"
   ]
  },
  {
   "cell_type": "code",
   "execution_count": 7,
   "id": "sorted-custody",
   "metadata": {},
   "outputs": [],
   "source": [
    "from tensorflow.keras.preprocessing.image import ImageDataGenerator\n",
    "\n",
    "def train_model(\n",
    "    train_img_nb :int, \n",
    "    valid_img_nb :int, \n",
    "    batch_size :int,\n",
    "    epochs :int, \n",
    "    use_data_augmentation :bool = False\n",
    "):\n",
    "    # All images will be rescaled by 1./255\n",
    "    train_datagen = ImageDataGenerator(\n",
    "        rescale=1./255,\n",
    "        rotation_range=40,\n",
    "        width_shift_range=0.2,\n",
    "        height_shift_range=0.2,\n",
    "        shear_range=0.2,\n",
    "        zoom_range=0.2,\n",
    "        horizontal_flip=True\n",
    "    ) if use_data_augmentation else ImageDataGenerator(\n",
    "        rescale=1./255\n",
    "    )\n",
    "    \n",
    "    val_datagen = ImageDataGenerator(rescale=1./255)\n",
    "    \n",
    "    train_gen = train_datagen.flow_from_directory(\n",
    "        train_path,\n",
    "        target_size=(150, 150),\n",
    "        batch_size=20,\n",
    "        classes=os.listdir(train_path)\n",
    "    )\n",
    "    \n",
    "    valid_generator = val_datagen.flow_from_directory(\n",
    "        valid_path,\n",
    "        target_size=(150, 150),\n",
    "        batch_size=20,\n",
    "        classes=os.listdir(valid_path)\n",
    "    )\n",
    "\n",
    "    history = model.fit(\n",
    "        train_gen,\n",
    "        steps_per_epoch=int(train_img_nb / batch_size),\n",
    "        epochs=epochs,\n",
    "        validation_data=valid_generator,\n",
    "        validation_steps=int(valid_img_nb / batch_size),\n",
    "    )\n",
    "    return history\n",
    "\n",
    "# history = train_model(\n",
    "#     16469, \n",
    "#     4111, \n",
    "#     batch_size=20,\n",
    "#     epochs=15\n",
    "# )\n",
    "\n"
   ]
  },
  {
   "cell_type": "markdown",
   "id": "conditional-manhattan",
   "metadata": {},
   "source": [
    "# Data augmentation"
   ]
  },
  {
   "cell_type": "code",
   "execution_count": 8,
   "id": "durable-surface",
   "metadata": {},
   "outputs": [
    {
     "name": "stdout",
     "output_type": "stream",
     "text": [
      "Model: \"model_1\"\n",
      "_________________________________________________________________\n",
      "Layer (type)                 Output Shape              Param #   \n",
      "=================================================================\n",
      "input_2 (InputLayer)         [(None, 150, 150, 3)]     0         \n",
      "_________________________________________________________________\n",
      "conv2d_3 (Conv2D)            (None, 148, 148, 16)      448       \n",
      "_________________________________________________________________\n",
      "max_pooling2d_3 (MaxPooling2 (None, 74, 74, 16)        0         \n",
      "_________________________________________________________________\n",
      "conv2d_4 (Conv2D)            (None, 72, 72, 32)        4640      \n",
      "_________________________________________________________________\n",
      "max_pooling2d_4 (MaxPooling2 (None, 36, 36, 32)        0         \n",
      "_________________________________________________________________\n",
      "conv2d_5 (Conv2D)            (None, 34, 34, 64)        18496     \n",
      "_________________________________________________________________\n",
      "max_pooling2d_5 (MaxPooling2 (None, 17, 17, 64)        0         \n",
      "_________________________________________________________________\n",
      "flatten_1 (Flatten)          (None, 18496)             0         \n",
      "_________________________________________________________________\n",
      "dense_2 (Dense)              (None, 512)               9470464   \n",
      "_________________________________________________________________\n",
      "dropout (Dropout)            (None, 512)               0         \n",
      "_________________________________________________________________\n",
      "dense_3 (Dense)              (None, 120)               61560     \n",
      "=================================================================\n",
      "Total params: 9,555,608\n",
      "Trainable params: 9,555,608\n",
      "Non-trainable params: 0\n",
      "_________________________________________________________________\n",
      "Found 16469 images belonging to 120 classes.\n",
      "Found 4111 images belonging to 120 classes.\n",
      "Epoch 1/15\n",
      "658/658 [==============================] - 116s 175ms/step - loss: 4.8081 - acc: 0.0110 - val_loss: 4.6033 - val_acc: 0.0262\n",
      "Epoch 2/15\n",
      "658/658 [==============================] - 113s 172ms/step - loss: 4.6133 - acc: 0.0265 - val_loss: 4.4220 - val_acc: 0.0335\n",
      "Epoch 3/15\n",
      "658/658 [==============================] - 112s 170ms/step - loss: 4.4995 - acc: 0.0320 - val_loss: 4.3194 - val_acc: 0.0497\n",
      "Epoch 4/15\n",
      "658/658 [==============================] - 112s 170ms/step - loss: 4.4225 - acc: 0.0380 - val_loss: 4.2293 - val_acc: 0.0683\n",
      "Epoch 5/15\n",
      "658/658 [==============================] - 112s 170ms/step - loss: 4.3694 - acc: 0.0449 - val_loss: 4.1913 - val_acc: 0.0613\n",
      "Epoch 6/15\n",
      "658/658 [==============================] - 114s 174ms/step - loss: 4.3269 - acc: 0.0480 - val_loss: 4.1227 - val_acc: 0.0723\n",
      "Epoch 7/15\n",
      "658/658 [==============================] - 117s 178ms/step - loss: 4.3009 - acc: 0.0516 - val_loss: 4.0988 - val_acc: 0.0759\n",
      "Epoch 8/15\n",
      "658/658 [==============================] - 115s 174ms/step - loss: 4.2575 - acc: 0.0603 - val_loss: 4.0740 - val_acc: 0.0753\n",
      "Epoch 9/15\n",
      "658/658 [==============================] - 114s 174ms/step - loss: 4.2630 - acc: 0.0612 - val_loss: 4.1158 - val_acc: 0.0713\n",
      "Epoch 10/15\n",
      "658/658 [==============================] - 116s 176ms/step - loss: 4.2650 - acc: 0.0615 - val_loss: 4.1165 - val_acc: 0.0729\n",
      "Epoch 11/15\n",
      "658/658 [==============================] - 119s 181ms/step - loss: 4.2417 - acc: 0.0638 - val_loss: 4.0552 - val_acc: 0.0863\n",
      "Epoch 12/15\n",
      "658/658 [==============================] - 113s 172ms/step - loss: 4.2336 - acc: 0.0636 - val_loss: 4.0190 - val_acc: 0.0899\n",
      "Epoch 13/15\n",
      "658/658 [==============================] - 118s 179ms/step - loss: 4.2312 - acc: 0.0681 - val_loss: 4.1182 - val_acc: 0.0777\n",
      "Epoch 14/15\n",
      "658/658 [==============================] - 123s 186ms/step - loss: 4.2316 - acc: 0.0604 - val_loss: 4.1203 - val_acc: 0.0723\n",
      "Epoch 15/15\n",
      "658/658 [==============================] - 120s 183ms/step - loss: 4.2099 - acc: 0.0683 - val_loss: 4.0597 - val_acc: 0.0918\n"
     ]
    }
   ],
   "source": [
    "model = create_model(use_dropout=True)\n",
    "history = train_model(\n",
    "    16469, \n",
    "    4111, \n",
    "    batch_size=25,\n",
    "    epochs=15,\n",
    "    use_data_augmentation=True\n",
    ")"
   ]
  },
  {
   "cell_type": "code",
   "execution_count": 9,
   "id": "intended-model",
   "metadata": {},
   "outputs": [],
   "source": [
    "def algo.history():\n",
    "    acc = history.history['acc']\n",
    "    val_acc = history.history['val_acc']\n",
    "    epochs = range(len(acc))\n",
    "    plt.plot(epochs, acc, 'b')\n",
    "    plt.plot(epochs, val_acc, 'r')\n",
    "    plt.title('Training and validation accuracy')\n",
    "    plt.show()\n",
    "\n",
    "    loss = history.history['loss']\n",
    "    val_loss = history.history['val_loss']\n",
    "    epochs = range(len(loss))\n",
    "    plt.plot(epochs, loss, 'b')\n",
    "    plt.plot(epochs, val_loss, 'r')\n",
    "    plt.title('Training and validation loss')"
   ]
  },
  {
   "cell_type": "code",
   "execution_count": 10,
   "id": "gross-justice",
   "metadata": {},
   "outputs": [
    {
     "data": {
      "image/png": "[encoded data removed]",
      "text/plain": [
       "<Figure size 432x288 with 1 Axes>"
      ]
     },
     "metadata": {
      "needs_background": "light"
     },
     "output_type": "display_data"
    },
    {
     "data": {
      "image/png": "[encoded data removed]",
      "text/plain": [
       "<Figure size 432x288 with 1 Axes>"
      ]
     },
     "metadata": {
      "needs_background": "light"
     },
     "output_type": "display_data"
    }
   ],
   "source": [
    "algo.history()"
   ]
  },
  {
   "cell_type": "code",
   "execution_count": null,
   "id": "satisfied-rehabilitation",
   "metadata": {},
   "outputs": [],
   "source": []
  },
  {
   "cell_type": "raw",
   "id": "herbal-marks",
   "metadata": {},
   "source": []
  },
  {
   "cell_type": "code",
   "execution_count": null,
   "id": "visible-bobby",
   "metadata": {},
   "outputs": [],
   "source": []
  }
 ],
 "metadata": {
  "kernelspec": {
   "display_name": "Python 3",
   "language": "python",
   "name": "python3"
  },
  "language_info": {
   "codemirror_mode": {
    "name": "ipython",
    "version": 3
   },
   "file_extension": ".py",
   "mimetype": "text/x-python",
   "name": "python",
   "nbconvert_exporter": "python",
   "pygments_lexer": "ipython3",
   "version": "3.8.0"
  }
 },
 "nbformat": 4,
 "nbformat_minor": 5
}
